{
 "cells": [
  {
   "cell_type": "code",
   "execution_count": 1,
   "id": "5ab53e2f-8004-49c9-8c8c-7748022f48ca",
   "metadata": {
    "jupyter": {
     "outputs_hidden": false,
     "source_hidden": true
    },
    "microsoft": {
     "language": "python",
     "language_group": "jupyter_python"
    }
   },
   "outputs": [
    {
     "data": {
      "application/vnd.jupyter.statement-meta+json": {
       "execution_finish_time": "2025-04-22T17:30:52.3352858Z",
       "execution_start_time": "2025-04-22T17:30:41.5557271Z",
       "normalized_state": "finished",
       "parent_msg_id": "d35f7fa0-b49c-4ce7-912c-9942ce217b48",
       "queued_time": "2025-04-22T17:30:38.4202603Z",
       "session_id": "536f3e6a-b141-433f-af10-e6b3eab426ca",
       "session_start_time": "2025-04-22T17:30:38.4212192Z"
      }
     },
     "metadata": {},
     "output_type": "display_data"
    },
    {
     "name": "stdout",
     "output_type": "stream",
     "text": [
      "Note: you may need to restart the kernel to use updated packages.\n"
     ]
    }
   ],
   "source": [
    "%pip install ms-fabric-cli --quiet"
   ]
  },
  {
   "cell_type": "markdown",
   "id": "9181ec38-733e-45da-bfed-1b7fa7f44f56",
   "metadata": {
    "microsoft": {
     "language": "python",
     "language_group": "jupyter_python"
    },
    "nteract": {
     "transient": {
      "deleting": false
     }
    }
   },
   "source": [
    "# First Time Setup\n",
    "If it´s the first time running the script, set the parameter 'FIRST_RUN' as 'True', else set it up as 'False'"
   ]
  },
  {
   "cell_type": "code",
   "execution_count": null,
   "id": "11b42300-bc68-44ca-9606-09745af13378",
   "metadata": {
    "microsoft": {
     "language": "python",
     "language_group": "jupyter_python"
    }
   },
   "outputs": [
    {
     "data": {
      "application/vnd.jupyter.statement-meta+json": {
       "execution_finish_time": "2025-04-22T17:30:52.6814195Z",
       "execution_start_time": "2025-04-22T17:30:52.3365213Z",
       "normalized_state": "finished",
       "parent_msg_id": "49457336-02f2-45c4-831e-c6ef13fc67c0",
       "queued_time": "2025-04-22T17:30:38.4223525Z",
       "session_id": "536f3e6a-b141-433f-af10-e6b3eab426ca",
       "session_start_time": null
      }
     },
     "metadata": {},
     "output_type": "display_data"
    }
   ],
   "source": [
    "FIRST_RUN = True"
   ]
  },
  {
   "cell_type": "markdown",
   "id": "ea93e835-7fed-4990-a333-a95ea976a78a",
   "metadata": {
    "microsoft": {
     "language": "python",
     "language_group": "jupyter_python"
    },
    "nteract": {
     "transient": {
      "deleting": false
     }
    }
   },
   "source": [
    "# Variables\n",
    "\n",
    "Set the following variables for the initial setup or update of the environment"
   ]
  },
  {
   "cell_type": "code",
   "execution_count": null,
   "id": "bc9a936d-19d8-4bbd-8e42-f5a971bc3adc",
   "metadata": {
    "microsoft": {
     "language": "python",
     "language_group": "jupyter_python"
    }
   },
   "outputs": [
    {
     "data": {
      "application/vnd.jupyter.statement-meta+json": {
       "execution_finish_time": "2025-04-22T17:30:53.0016996Z",
       "execution_start_time": "2025-04-22T17:30:52.6826481Z",
       "normalized_state": "finished",
       "parent_msg_id": "8dcd5855-36e6-4ffc-a7e4-7435b145d38a",
       "queued_time": "2025-04-22T17:30:38.4240157Z",
       "session_id": "536f3e6a-b141-433f-af10-e6b3eab426ca",
       "session_start_time": null
      }
     },
     "metadata": {},
     "output_type": "display_data"
    }
   ],
   "source": [
    "# Key Vault URI\n",
    "key_vault_uri = f\"https://{kv_name}.vault.azure.net/\"\n",
    "\n",
    "# Key Vault secret name with the tenant id\n",
    "key_vault_tenant_id = f\"tenant-id\"\n",
    "\n",
    "# Key vault secret name with the App Id of the Service Principal\n",
    "key_vault_client_id = f\"fabric-admin-api-sp-id\"\n",
    "\n",
    "# Key vault secret name with the secret of the Service Principal\n",
    "key_vault_client_secret = f\"fabric-admin-api-sp-secret\"\n",
    "\n",
    "# Id of the Security Group with the Service Principal used for the Admin API´s and Gateway Administration\n",
    "group_id = f\"\"\n",
    "\n",
    "# Capacity ID of the capacity you want to setup. You can change it manually later in the Eventstream, \n",
    "# or add more capacities\n",
    "capacity_id = f\"\""
   ]
  },
  {
   "cell_type": "markdown",
   "id": "b8afe6c1-c599-47f3-ae77-53e975811e4e",
   "metadata": {
    "microsoft": {
     "language": "python",
     "language_group": "jupyter_python"
    },
    "nteract": {
     "transient": {
      "deleting": false
     }
    }
   },
   "source": [
    "Don´t change the following variables unless specified by the repo owners"
   ]
  },
  {
   "cell_type": "code",
   "execution_count": 4,
   "id": "7860d419-91c1-4840-9d3d-7a516750271d",
   "metadata": {
    "microsoft": {
     "language": "python",
     "language_group": "jupyter_python"
    }
   },
   "outputs": [
    {
     "data": {
      "application/vnd.jupyter.statement-meta+json": {
       "execution_finish_time": "2025-04-22T17:30:53.3749611Z",
       "execution_start_time": "2025-04-22T17:30:53.0027915Z",
       "normalized_state": "finished",
       "parent_msg_id": "e9923ea0-f9e8-4ccd-b767-a15f0d41ecf3",
       "queued_time": "2025-04-22T17:30:38.4256219Z",
       "session_id": "536f3e6a-b141-433f-af10-e6b3eab426ca",
       "session_start_time": null
      }
     },
     "metadata": {},
     "output_type": "display_data"
    }
   ],
   "source": [
    "##### DO NET CHANGE UNLESS SPECIFIED OTHERWISE ####\n",
    "repo_owner = \"ecotte\"\n",
    "repo_name = \"Fabric-Monitoring-RTI\"\n",
    "branch = \"Capacity\"\n",
    "folder_prefix = \"\"\n",
    "###################################################"
   ]
  },
  {
   "cell_type": "markdown",
   "id": "37310857-6b85-4063-a1cf-0905e91d1faf",
   "metadata": {
    "microsoft": {
     "language": "python",
     "language_group": "jupyter_python"
    },
    "nteract": {
     "transient": {
      "deleting": false
     }
    }
   },
   "source": [
    "# Load Libraries"
   ]
  },
  {
   "cell_type": "code",
   "execution_count": 5,
   "id": "1af11a20-a1fa-46f5-a2f1-59667ccc6b2d",
   "metadata": {
    "microsoft": {
     "language": "python",
     "language_group": "jupyter_python"
    }
   },
   "outputs": [
    {
     "data": {
      "application/vnd.jupyter.statement-meta+json": {
       "execution_finish_time": "2025-04-22T17:31:02.2144498Z",
       "execution_start_time": "2025-04-22T17:30:53.3760996Z",
       "normalized_state": "finished",
       "parent_msg_id": "c76c107b-b1fd-4e4e-959d-f48ee0c8a1bc",
       "queued_time": "2025-04-22T17:30:38.4272231Z",
       "session_id": "536f3e6a-b141-433f-af10-e6b3eab426ca",
       "session_start_time": null
      }
     },
     "metadata": {},
     "output_type": "display_data"
    }
   ],
   "source": [
    "import subprocess\n",
    "import os\n",
    "import json\n",
    "from zipfile import ZipFile \n",
    "import shutil\n",
    "import re\n",
    "import requests\n",
    "import zipfile\n",
    "from io import BytesIO\n",
    "import yaml\n",
    "import sempy.fabric as fabric"
   ]
  },
  {
   "cell_type": "markdown",
   "id": "de2d04fe-3bb9-49ce-bcd5-00c41ea09405",
   "metadata": {
    "microsoft": {
     "language": "python",
     "language_group": "jupyter_python"
    },
    "nteract": {
     "transient": {
      "deleting": false
     }
    }
   },
   "source": [
    "## Download of source & config files\n",
    "This part downloads all source and config files of FUAM needed for the deployment into the ressources of the notebook"
   ]
  },
  {
   "cell_type": "code",
   "execution_count": 6,
   "id": "31e96bdf-adaf-4501-a631-a51612653c8b",
   "metadata": {
    "microsoft": {
     "language": "python",
     "language_group": "jupyter_python"
    }
   },
   "outputs": [
    {
     "data": {
      "application/vnd.jupyter.statement-meta+json": {
       "execution_finish_time": "2025-04-22T17:31:08.5643402Z",
       "execution_start_time": "2025-04-22T17:31:02.2157639Z",
       "normalized_state": "finished",
       "parent_msg_id": "d3f12128-dd3e-4ee3-97fc-324f3a619677",
       "queued_time": "2025-04-22T17:30:38.4288507Z",
       "session_id": "536f3e6a-b141-433f-af10-e6b3eab426ca",
       "session_start_time": null
      }
     },
     "metadata": {},
     "output_type": "display_data"
    }
   ],
   "source": [
    "def download_folder_as_zip(repo_owner, repo_name, output_zip, branch=\"main\", folder_to_extract=\"src\",  remove_folder_prefix = \"\"):\n",
    "    # Construct the URL for the GitHub API to download the repository as a zip file\n",
    "    url = f\"https://api.github.com/repos/{repo_owner}/{repo_name}/zipball/{branch}\"\n",
    "    \n",
    "    # Make a request to the GitHub API\n",
    "    response = requests.get(url)\n",
    "    response.raise_for_status()\n",
    "    \n",
    "    # Ensure the directory for the output zip file exists\n",
    "    os.makedirs(os.path.dirname(output_zip), exist_ok=True)\n",
    "    \n",
    "    # Create a zip file in memory\n",
    "    with zipfile.ZipFile(BytesIO(response.content)) as zipf:\n",
    "        with zipfile.ZipFile(output_zip, 'w') as output_zipf:\n",
    "            for file_info in zipf.infolist():\n",
    "                parts = file_info.filename.split('/')\n",
    "                if  re.sub(r'^.*?/', '/', file_info.filename).startswith(folder_to_extract): \n",
    "                    # Extract only the specified folder\n",
    "                    file_data = zipf.read(file_info.filename)                    \n",
    "                    output_zipf.writestr(('/'.join(parts[1:]).replace(remove_folder_prefix, \"\")), file_data)\n",
    "\n",
    "def uncompress_zip_to_folder(zip_path, extract_to):\n",
    "    # Ensure the directory for extraction exists\n",
    "    os.makedirs(extract_to, exist_ok=True)\n",
    "    \n",
    "    # Uncompress all files from the zip into the specified folder\n",
    "    with zipfile.ZipFile(zip_path, 'r') as zip_ref:\n",
    "        zip_ref.extractall(extract_to)\n",
    "    \n",
    "    # Delete the original zip file\n",
    "    os.remove(zip_path)\n",
    "\n",
    "\n",
    "download_folder_as_zip(repo_owner, repo_name, output_zip = \"./builtin/src/src.zip\", branch = branch, folder_to_extract= f\"{folder_prefix}/src\", remove_folder_prefix = f\"{folder_prefix}\")\n",
    "download_folder_as_zip(repo_owner, repo_name, output_zip = \"./builtin/config/config.zip\", branch = branch, folder_to_extract= f\"{folder_prefix}/config\" , remove_folder_prefix = f\"{folder_prefix}\")\n",
    "uncompress_zip_to_folder(zip_path = \"./builtin/config/config.zip\", extract_to= \"./builtin\")"
   ]
  },
  {
   "cell_type": "markdown",
   "id": "9b96e880-7c1b-4ed5-9ea9-eb4055d41537",
   "metadata": {
    "microsoft": {
     "language": "python",
     "language_group": "jupyter_python"
    },
    "nteract": {
     "transient": {
      "deleting": false
     }
    }
   },
   "source": [
    "## Definition of deployment functions"
   ]
  },
  {
   "cell_type": "code",
   "execution_count": 7,
   "id": "0ee5a660-9826-4865-ac50-ddf8ce578148",
   "metadata": {
    "microsoft": {
     "language": "python",
     "language_group": "jupyter_python"
    }
   },
   "outputs": [
    {
     "data": {
      "application/vnd.jupyter.statement-meta+json": {
       "execution_finish_time": "2025-04-22T17:31:08.9311653Z",
       "execution_start_time": "2025-04-22T17:31:08.5656705Z",
       "normalized_state": "finished",
       "parent_msg_id": "806dc349-6f36-4380-8a91-0b3f50c70997",
       "queued_time": "2025-04-22T17:30:38.4307303Z",
       "session_id": "536f3e6a-b141-433f-af10-e6b3eab426ca",
       "session_start_time": null
      }
     },
     "metadata": {},
     "output_type": "display_data"
    }
   ],
   "source": [
    "# Set environment parameters for Fabric CLI\n",
    "token = notebookutils.credentials.getToken('pbi')\n",
    "os.environ['FAB_TOKEN'] = token\n",
    "os.environ['FAB_TOKEN_ONELAKE'] = token\n",
    "\n",
    "def run_fab_command( command, capture_output: bool = False, silently_continue: bool = False):\n",
    "    result = subprocess.run([\"fab\", \"-c\", command], capture_output=capture_output, text=True)\n",
    "    if (not(silently_continue) and (result.returncode > 0 or result.stderr)):\n",
    "       raise Exception(f\"Error running fab command. exit_code: '{result.returncode}'; stderr: '{result.stderr}'\")    \n",
    "    if (capture_output): \n",
    "        output = result.stdout.strip()\n",
    "        return output\n",
    "\n",
    "def fab_get_id(name):\n",
    "    id = run_fab_command(f\"get /{trg_workspace_name}.Workspace/{name} -q id\" , capture_output = True, silently_continue= True)\n",
    "    return(id)\n",
    "\n",
    "def fab_get_item(name):\n",
    "    item = run_fab_command(f\"get /{trg_workspace_name}.Workspace/{name}\" , capture_output = True, silently_continue= True)\n",
    "    return(item)\n",
    "\n",
    "def fab_get_display_name(name):\n",
    "    display_name = run_fab_command(f\"get /{trg_workspace_name}.Workspace/{name} -q displayName\" , capture_output = True, silently_continue= True)\n",
    "    return(display_name)\n",
    "\n",
    "def fab_get_kusto_query_uri(name):\n",
    "    connection = run_fab_command(f\"get /{trg_workspace_name}.Workspace/{name} -q properties.queryServiceUri\", capture_output = True, silently_continue= True)\n",
    "    return(connection)\n",
    "\n",
    "def fab_get_kusto_ingest_uri(name):\n",
    "    connection = run_fab_command(f\"get /{trg_workspace_name}.Workspace/{name} -q properties.ingestionServiceUri\", capture_output = True, silently_continue= True)\n",
    "    return(connection)\n",
    "\n",
    "def fab_get_folders():\n",
    "    response = run_fab_command(f\"api workspaces/{trg_workspace_id}/folders\", capture_output = True, silently_continue= True)\n",
    "    return(json.loads(response).get('text',{}).get('value',[]))\n",
    "\n",
    "def fab_get_folder(folder_name):\n",
    "    for f in fab_get_folders():\n",
    "        if f.get('displayName') == folder_name:\n",
    "            return f\n",
    "    return None\n",
    "\n",
    "def fab_assign_item_folder(item_id,folder):\n",
    "    folder_details = fab_get_folder(folder)\n",
    "\n",
    "    if folder_details is None:\n",
    "        payload = json.dumps({\"displayName\": folder})\n",
    "        folder_details = run_fab_command(f\"api -X post workspaces/{trg_workspace_id}/folders -i {payload}\", capture_output = True, silently_continue= True)\n",
    "        folder_details = json.loads(folder_details).get('text',{})\n",
    "\n",
    "    payload = json.dumps({\"folder\": folder_details.get('id')})\n",
    "\n",
    "    return run_fab_command(f\"api -X patch workspaces/{trg_workspace_id}/items/{item_id} -i {payload}\", capture_output = True, silently_continue= True)\n",
    "\n",
    "def get_id_by_name(name):\n",
    "    for it in deployment_order:\n",
    "        if it.get(\"name\") == name:\n",
    "                return it.get(\"id\")\n",
    "    return None\n",
    "\n",
    "def copy_to_tmp(name):\n",
    "    shutil.rmtree(\"./builtin/tmp\",  ignore_errors=True)\n",
    "    path2zip = \"./builtin/src/src.zip\"\n",
    "    with  ZipFile(path2zip) as archive:\n",
    "        for file in archive.namelist():\n",
    "            if file.startswith(f'src/{name}/'):\n",
    "                archive.extract(file, './builtin/tmp')\n",
    "    return(f\"./builtin/tmp/src/{name}\" )\n",
    "\n",
    "def replace_ids_in_folder(folder_path, mapping_table):\n",
    "    for root, _, files in os.walk(folder_path):\n",
    "        for file_name in files:\n",
    "            if file_name.endswith(('.py', '.json', '.pbir', '.platform', '.ipynb', '.tmdl')) and not file_name.endswith('report.json'):\n",
    "                file_path = os.path.join(root, file_name)\n",
    "                with open(file_path, 'r', encoding='utf-8') as file:\n",
    "                    content = file.read()\n",
    "                    for mapping in mapping_table:  \n",
    "                        content = content.replace(mapping[\"old_id\"], mapping[\"new_id\"])\n",
    "                with open(file_path, 'w', encoding='utf-8') as file:\n",
    "                    file.write(content)\n",
    "\n",
    "def print_color(text, state):\n",
    "    red  = '\\033[91m'\n",
    "    yellow = '\\033[93m'  \n",
    "    green = '\\033[92m'   \n",
    "    white = '\\033[0m'  \n",
    "    if state == \"error\":\n",
    "        print(red, text, white)\n",
    "    elif state == \"warning\":\n",
    "        print(yellow, text, white)\n",
    "    elif state == \"success\":\n",
    "        print(green, text, white)\n",
    "    else:\n",
    "        print(\"\", text)\n"
   ]
  },
  {
   "cell_type": "markdown",
   "id": "cefa08bf-f156-4110-941c-2325a2a6120c",
   "metadata": {
    "microsoft": {
     "language": "python",
     "language_group": "jupyter_python"
    },
    "nteract": {
     "transient": {
      "deleting": false
     }
    }
   },
   "source": [
    "## Get current Workspace\n",
    "This cell gets the current workspace to deploy FUAM automatically inside it"
   ]
  },
  {
   "cell_type": "code",
   "execution_count": 8,
   "id": "d58fee19-3f2f-4411-8188-19d14071c536",
   "metadata": {
    "microsoft": {
     "language": "python",
     "language_group": "jupyter_python"
    }
   },
   "outputs": [
    {
     "data": {
      "application/vnd.jupyter.statement-meta+json": {
       "execution_finish_time": "2025-04-22T17:31:16.1485902Z",
       "execution_start_time": "2025-04-22T17:31:08.9324127Z",
       "normalized_state": "finished",
       "parent_msg_id": "26765322-2085-4b9a-9677-0e4b8eea4f66",
       "queued_time": "2025-04-22T17:30:38.4323317Z",
       "session_id": "536f3e6a-b141-433f-af10-e6b3eab426ca",
       "session_start_time": null
      }
     },
     "metadata": {},
     "output_type": "display_data"
    },
    {
     "name": "stdout",
     "output_type": "stream",
     "text": [
      "Current workspace: [Dev] Microsoft Fabric Platform Monitoring\n",
      "Current workspace ID: 9abe4198-c12a-4ea7-8442-81bf06eb9097\n"
     ]
    },
    {
     "data": {
      "application/vnd.synapse-jupyter.display-view+json": {
       "isSummary": false,
       "language": "python",
       "table": {
        "rows": [
         {
          "0": "63b564e3-bc45-46b0-aa00-31e28a727076",
          "1": "9abe4198-c12a-4ea7-8442-81bf06eb9097"
         },
         {
          "0": "00000000-0000-0000-0000-000000000000",
          "1": "9abe4198-c12a-4ea7-8442-81bf06eb9097"
         },
         {
          "0": "{key_vault_uri}",
          "1": "https://mrtacatkeyvault.vault.azure.net/"
         },
         {
          "0": "{key_vault_tenant_id}",
          "1": "tenant-id"
         },
         {
          "0": "{key_vault_client_id}",
          "1": "fabric-admin-api-sp-id"
         },
         {
          "0": "{key_vault_client_secret}",
          "1": "fabric-admin-api-sp-secret"
         }
        ],
        "schema": [
         {
          "key": "0",
          "name": "old_id",
          "type": "string"
         },
         {
          "key": "1",
          "name": "new_id",
          "type": "string"
         }
        ],
        "truncated": false
       }
      }
     },
     "metadata": {},
     "output_type": "display_data"
    }
   ],
   "source": [
    "base_path = './builtin/'\n",
    "config_path = os.path.join(base_path, 'config/item_config.yaml')\n",
    "\n",
    "with open(config_path, 'r') as file:\n",
    "        config = yaml.safe_load(file)\n",
    "\n",
    "deploy_order_path = os.path.join(base_path, 'config/deployment_order.json')\n",
    "with open(deploy_order_path, 'r') as file:\n",
    "        deployment_order = json.load(file)\n",
    "\n",
    "src_workspace_name = config.get('workspace',{}).get('src')\n",
    "src_capacity_name = config.get('capacity',{}).get('name')\n",
    "\n",
    "semantic_model_connect_to_lakehouse = config.get('fuam_lakehouse_semantic_models',{})\n",
    "\n",
    "mapping_table=[]\n",
    "\n",
    "trg_workspace_id = fabric.get_notebook_workspace_id()\n",
    "res = run_fab_command(f\"api -X get workspaces/{trg_workspace_id}\" , capture_output = True, silently_continue=True)\n",
    "trg_workspace_name = json.loads(res)[\"text\"][\"displayName\"]\n",
    "\n",
    "print(f\"Current workspace: {trg_workspace_name}\")\n",
    "print(f\"Current workspace ID: {trg_workspace_id}\")\n",
    "\n",
    "\n",
    "mapping_table.append({ \"old_id\": get_id_by_name(src_capacity_name), \"new_id\": capacity_id })\n",
    "mapping_table.append({ \"old_id\": get_id_by_name(src_workspace_name), \"new_id\": trg_workspace_id })\n",
    "mapping_table.append({ \"old_id\": \"00000000-0000-0000-0000-000000000000\", \"new_id\": trg_workspace_id })\n",
    "mapping_table.append({ \"old_id\": \"{key_vault_uri}\", \"new_id\": key_vault_uri })\n",
    "mapping_table.append({ \"old_id\": \"{key_vault_tenant_id}\", \"new_id\": key_vault_tenant_id })\n",
    "mapping_table.append({ \"old_id\": \"{key_vault_client_id}\", \"new_id\": key_vault_client_id })\n",
    "mapping_table.append({ \"old_id\": \"{key_vault_client_secret}\", \"new_id\": key_vault_client_secret })\n",
    "\n",
    "display(mapping_table)"
   ]
  },
  {
   "cell_type": "markdown",
   "id": "54b073ab-78fd-44fe-8380-f3b3d2fda71e",
   "metadata": {
    "microsoft": {
     "language": "python",
     "language_group": "jupyter_python"
    },
    "nteract": {
     "transient": {
      "deleting": false
     }
    }
   },
   "source": [
    "## Add Group as contributor in the workspace"
   ]
  },
  {
   "cell_type": "code",
   "execution_count": 9,
   "id": "f7e62e74-18f1-4b3a-afef-41932aca14d8",
   "metadata": {
    "microsoft": {
     "language": "python",
     "language_group": "jupyter_python"
    }
   },
   "outputs": [
    {
     "data": {
      "application/vnd.jupyter.statement-meta+json": {
       "execution_finish_time": "2025-04-22T17:31:16.8939952Z",
       "execution_start_time": "2025-04-22T17:31:16.1497947Z",
       "normalized_state": "finished",
       "parent_msg_id": "23611ae8-6dc1-43f3-8241-687aaa7f11e3",
       "queued_time": "2025-04-22T17:30:38.4338983Z",
       "session_id": "536f3e6a-b141-433f-af10-e6b3eab426ca",
       "session_start_time": null
      }
     },
     "metadata": {},
     "output_type": "display_data"
    }
   ],
   "source": [
    "payload = json.dumps({\n",
    "            \"principal\": {\n",
    "                \"id\": group_id,\n",
    "                \"type\": \"Group\",\n",
    "                \"groupDetails\": {\n",
    "                    \"groupType\": \"SecurityGroup\",\n",
    "                }\n",
    "            },\n",
    "            \"role\": \"Admin\",\n",
    "        })\n",
    "\n",
    "result = run_fab_command(f\"api -X post workspaces/{trg_workspace_id}/roleAssignments -i {payload}\" , capture_output = True, silently_continue= True)"
   ]
  },
  {
   "cell_type": "markdown",
   "id": "3f9c66dd-47bb-4394-a8b7-3772af6dd0ef",
   "metadata": {
    "microsoft": {
     "language": "python",
     "language_group": "jupyter_python"
    },
    "nteract": {
     "transient": {
      "deleting": false
     }
    }
   },
   "source": [
    "## Deployment Logic\n",
    "This part iterates through all the items, gets the respective source code, replaces all IDs dynamically and deploys the new item"
   ]
  },
  {
   "cell_type": "code",
   "execution_count": 10,
   "id": "87eaaac6-14e5-47c8-99f2-66bcdb308e00",
   "metadata": {
    "microsoft": {
     "language": "python",
     "language_group": "jupyter_python"
    }
   },
   "outputs": [
    {
     "data": {
      "application/vnd.jupyter.statement-meta+json": {
       "execution_finish_time": "2025-04-22T17:32:19.4719586Z",
       "execution_start_time": "2025-04-22T17:31:16.8952588Z",
       "normalized_state": "finished",
       "parent_msg_id": "df1d09f3-d0e1-4d43-ae59-a39ddf784430",
       "queued_time": "2025-04-22T17:30:38.4355686Z",
       "session_id": "536f3e6a-b141-433f-af10-e6b3eab426ca",
       "session_start_time": null
      }
     },
     "metadata": {},
     "output_type": "display_data"
    },
    {
     "name": "stdout",
     "output_type": "stream",
     "text": [
      "\n",
      "#############################################\n",
      "Deploying Platform and Audit DB.Eventhouse\n",
      "! An item with the same name exists\n",
      "Importing (update) './builtin/tmp/src/Platform and Audit DB.Eventhouse' → '/[Dev] Microsoft Fabric Platform Monitoring.Workspace/Platform and Audit DB.Eventhouse'...\n",
      "* 'Platform and Audit DB.Eventhouse' imported\n",
      "\n",
      "#############################################\n",
      "Deploying Platform and Audit DB.KQLDatabase\n",
      "! An item with the same name exists\n",
      "Importing (update) './builtin/tmp/src/Platform and Audit DB.KQLDatabase' → '/[Dev] Microsoft Fabric Platform Monitoring.Workspace/Platform and Audit DB.KQLDatabase'...\n",
      "* 'Platform and Audit DB.KQLDatabase' imported\n",
      "\n",
      "#############################################\n",
      "Deploying Monitoring Audit Logs.Notebook\n",
      "! An item with the same name exists\n",
      "Importing (update) './builtin/tmp/src/Monitoring Audit Logs.Notebook' → '/[Dev] Microsoft Fabric Platform Monitoring.Workspace/Monitoring Audit Logs.Notebook'...\n",
      "* 'Monitoring Audit Logs.Notebook' imported\n",
      "\n",
      "#############################################\n",
      "Deploying Monitoring Extraction Inventory.Notebook\n",
      "! An item with the same name exists\n",
      "Importing (update) './builtin/tmp/src/Monitoring Extraction Inventory.Notebook' → '/[Dev] Microsoft Fabric Platform Monitoring.Workspace/Monitoring Extraction Inventory.Notebook'...\n",
      "* 'Monitoring Extraction Inventory.Notebook' imported\n",
      "\n",
      "#############################################\n",
      "Deploying Monitoring Extraction Scanner.Notebook\n",
      "! An item with the same name exists\n",
      "Importing (update) './builtin/tmp/src/Monitoring Extraction Scanner.Notebook' → '/[Dev] Microsoft Fabric Platform Monitoring.Workspace/Monitoring Extraction Scanner.Notebook'...\n",
      "* 'Monitoring Extraction Scanner.Notebook' imported\n",
      "\n",
      "#############################################\n",
      "Deploying Monitoring Extraction Refreshables.Notebook\n",
      "! An item with the same name exists\n",
      "Importing (update) './builtin/tmp/src/Monitoring Extraction Refreshables.Notebook' → '/[Dev] Microsoft Fabric Platform Monitoring.Workspace/Monitoring Extraction Refreshables.Notebook'...\n",
      "* 'Monitoring Extraction Refreshables.Notebook' imported\n",
      "\n",
      "#############################################\n",
      "Deploying Platform Monitoring.KQLDashboard\n",
      "! An item with the same name exists\n",
      "Importing (update) './builtin/tmp/src/Platform Monitoring.KQLDashboard' → '/[Dev] Microsoft Fabric Platform Monitoring.Workspace/Platform Monitoring.KQLDashboard'...\n",
      "* 'Platform Monitoring.KQLDashboard' imported\n"
     ]
    }
   ],
   "source": [
    "exclude = [src_workspace_name,src_capacity_name]\n",
    "\n",
    "for it in deployment_order:\n",
    "\n",
    "    new_id = None\n",
    "    \n",
    "    name = it[\"name\"]\n",
    "\n",
    "    if name in exclude:\n",
    "        continue\n",
    "\n",
    "    if not FIRST_RUN and \".Eventstream\" in name:\n",
    "        continue\n",
    "\n",
    "    print(\"\")\n",
    "    print(\"#############################################\")\n",
    "    print(f\"Deploying {name}\")\n",
    "\n",
    "    # Copy and replace IDs in the item\n",
    "    tmp_path = copy_to_tmp(name)\n",
    "\n",
    "    cli_parameter = ''\n",
    "    if \".Notebook\" in name:\n",
    "        cli_parameter = cli_parameter + \" --format .py\"\n",
    "\n",
    "    replace_ids_in_folder(tmp_path, mapping_table)    \n",
    "    \n",
    "    run_fab_command(f\"import  /{trg_workspace_name}.Workspace/{name} -i {tmp_path} -f {cli_parameter} \", silently_continue= True)\n",
    "    new_id= fab_get_id(name)\n",
    "\n",
    "    if \".KQLDatabase\" in name:\n",
    "        display_name = fab_get_display_name(name)\n",
    "        mapping_table.append({ \"old_id\": \"{kusto_db_name}\", \"new_id\": display_name })\n",
    "    if \".Eventhouse\" in name:\n",
    "        query_uri = fab_get_kusto_query_uri(name)\n",
    "        mapping_table.append({ \"old_id\": \"{kusto_query_uri}\", \"new_id\": query_uri })\n",
    "        ingest_uri = fab_get_kusto_ingest_uri(name)\n",
    "        mapping_table.append({ \"old_id\": \"{kusto_ingest_uri}\", \"new_id\": ingest_uri })\n",
    "    mapping_table.append({ \"old_id\": it[\"id\"], \"new_id\": new_id })\n",
    "\n"
   ]
  }
 ],
 "metadata": {
  "dependencies": {},
  "kernel_info": {
   "jupyter_kernel_name": "python3.11",
   "name": "jupyter"
  },
  "kernelspec": {
   "display_name": "Jupyter",
   "language": "Jupyter",
   "name": "jupyter"
  },
  "language_info": {
   "name": "python"
  },
  "microsoft": {
   "language": "python",
   "language_group": "jupyter_python",
   "ms_spell_check": {
    "ms_spell_check_language": "en"
   }
  },
  "nteract": {
   "version": "nteract-front-end@1.0.0"
  },
  "spark_compute": {
   "compute_id": "/trident/default",
   "session_options": {
    "conf": {
     "spark.synapse.nbs.session.timeout": "1200000"
    }
   }
  }
 },
 "nbformat": 4,
 "nbformat_minor": 5
}
