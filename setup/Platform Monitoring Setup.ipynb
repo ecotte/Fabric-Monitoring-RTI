{
 "cells": [
  {
   "cell_type": "code",
   "execution_count": 1,
   "id": "5ab53e2f-8004-49c9-8c8c-7748022f48ca",
   "metadata": {
    "jupyter": {
     "outputs_hidden": false,
     "source_hidden": false
    },
    "microsoft": {
     "language": "python",
     "language_group": "jupyter_python"
    }
   },
   "outputs": [
    {
     "data": {
      "application/vnd.jupyter.statement-meta+json": {
       "execution_finish_time": "2025-06-07T00:21:15.0138048Z",
       "execution_start_time": "2025-06-07T00:21:02.06927Z",
       "normalized_state": "finished",
       "parent_msg_id": "e30bf016-d484-4517-955b-69a61a487041",
       "queued_time": "2025-06-07T00:20:58.5346968Z",
       "session_id": "58b5b238-1be9-4436-a3e8-09ee34b5ac64",
       "session_start_time": "2025-06-07T00:20:58.5355905Z"
      }
     },
     "metadata": {},
     "output_type": "display_data"
    },
    {
     "name": "stdout",
     "output_type": "stream",
     "text": [
      "Note: you may need to restart the kernel to use updated packages.\n"
     ]
    }
   ],
   "source": [
    "%pip install ms-fabric-cli --quiet"
   ]
  },
  {
   "cell_type": "markdown",
   "id": "4d18bd04-fc22-4651-9380-27cf950a35e1",
   "metadata": {
    "microsoft": {
     "language": "python",
     "language_group": "jupyter_python"
    },
    "nteract": {
     "transient": {
      "deleting": false
     }
    }
   },
   "source": [
    "# Variables"
   ]
  },
  {
   "cell_type": "markdown",
   "id": "9181ec38-733e-45da-bfed-1b7fa7f44f56",
   "metadata": {
    "microsoft": {
     "language": "python",
     "language_group": "jupyter_python"
    },
    "nteract": {
     "transient": {
      "deleting": false
     }
    }
   },
   "source": [
    "## First Time Setup\n",
    "If it´s the first time running the script, set the parameter 'FIRST_RUN' as 'True', else set it up as 'False'"
   ]
  },
  {
   "cell_type": "code",
   "execution_count": 2,
   "id": "11b42300-bc68-44ca-9606-09745af13378",
   "metadata": {
    "microsoft": {
     "language": "python",
     "language_group": "jupyter_python"
    }
   },
   "outputs": [
    {
     "data": {
      "application/vnd.jupyter.statement-meta+json": {
       "execution_finish_time": "2025-06-07T00:21:15.4074605Z",
       "execution_start_time": "2025-06-07T00:21:15.0149094Z",
       "normalized_state": "finished",
       "parent_msg_id": "c6b4ea11-ae72-4238-b9ab-3ff5186ceae6",
       "queued_time": "2025-06-07T00:20:58.6404121Z",
       "session_id": "58b5b238-1be9-4436-a3e8-09ee34b5ac64",
       "session_start_time": null
      }
     },
     "metadata": {},
     "output_type": "display_data"
    }
   ],
   "source": [
    "FIRST_RUN = True"
   ]
  },
  {
   "cell_type": "markdown",
   "id": "ea93e835-7fed-4990-a333-a95ea976a78a",
   "metadata": {
    "microsoft": {
     "language": "python",
     "language_group": "jupyter_python"
    },
    "nteract": {
     "transient": {
      "deleting": false
     }
    }
   },
   "source": [
    "## Audit and Inventory"
   ]
  },
  {
   "cell_type": "code",
   "execution_count": null,
   "id": "bc9a936d-19d8-4bbd-8e42-f5a971bc3adc",
   "metadata": {
    "microsoft": {
     "language": "python",
     "language_group": "jupyter_python"
    }
   },
   "outputs": [
    {
     "data": {
      "application/vnd.jupyter.statement-meta+json": {
       "execution_finish_time": "2025-06-07T00:21:16.1626523Z",
       "execution_start_time": "2025-06-07T00:21:15.8283402Z",
       "normalized_state": "finished",
       "parent_msg_id": "9d95403f-fa20-4ed1-bc80-d30a8f2a3914",
       "queued_time": "2025-06-07T00:20:58.9123631Z",
       "session_id": "58b5b238-1be9-4436-a3e8-09ee34b5ac64",
       "session_start_time": null
      }
     },
     "metadata": {},
     "output_type": "display_data"
    }
   ],
   "source": [
    "# Specify if you want to install the Platform Monitoring Module\n",
    "INSTALL_PLATFORM_MONITORING_MODULE = True\n",
    "\n",
    "### For the Platform Monitoring Module, \n",
    "### you need to setup an Azure Key Vault to store the SPN with the Admin API Access,\n",
    "### and Admin access to the gateways to list. The SPN needs to be in a Servurity Group with\n",
    "### the Tenant settings access to Admin and Regular Fabric API.\n",
    "###\n",
    "### IMPORTANT: Add the Security group also to this workspace\n",
    "\n",
    "# Key Vault URI\n",
    "key_vault_uri = f\"https://\"\n",
    "\n",
    "# Key Vault secret name with the tenant id\n",
    "key_vault_tenant_id = f\"\"\n",
    "\n",
    "# Key vault secret name with the App Id of the Service Principal\n",
    "key_vault_client_id = f\"\"\n",
    "\n",
    "# Key vault secret name with the secret of the Service Principal\n",
    "key_vault_client_secret = f\"\""
   ]
  },
  {
   "cell_type": "markdown",
   "id": "620b4251-8fdf-4fcd-a140-37b61badd3dd",
   "metadata": {
    "microsoft": {
     "language": "python",
     "language_group": "jupyter_python"
    },
    "nteract": {
     "transient": {
      "deleting": false
     }
    }
   },
   "source": [
    "## Gateway"
   ]
  },
  {
   "cell_type": "code",
   "execution_count": 5,
   "id": "23d16656-898f-4b80-bd4a-1051d6c32476",
   "metadata": {
    "microsoft": {
     "language": "python",
     "language_group": "jupyter_python"
    }
   },
   "outputs": [
    {
     "data": {
      "application/vnd.jupyter.statement-meta+json": {
       "execution_finish_time": "2025-06-07T00:21:16.550817Z",
       "execution_start_time": "2025-06-07T00:21:16.163728Z",
       "normalized_state": "finished",
       "parent_msg_id": "ddb9d8c9-5e68-41cd-85f6-e8b59dbd544d",
       "queued_time": "2025-06-07T00:20:59.0128091Z",
       "session_id": "58b5b238-1be9-4436-a3e8-09ee34b5ac64",
       "session_start_time": null
      }
     },
     "metadata": {},
     "output_type": "display_data"
    }
   ],
   "source": [
    "# Specify if you want to install the Gateway Module\n",
    "INSTALL_GATEWAY_MODULE = True"
   ]
  },
  {
   "cell_type": "markdown",
   "id": "6e6f305d-3afc-4466-ad88-f246ef136719",
   "metadata": {
    "microsoft": {
     "language": "python",
     "language_group": "jupyter_python"
    },
    "nteract": {
     "transient": {
      "deleting": false
     }
    }
   },
   "source": [
    "## Source Git Repo"
   ]
  },
  {
   "cell_type": "code",
   "execution_count": null,
   "id": "7860d419-91c1-4840-9d3d-7a516750271d",
   "metadata": {
    "microsoft": {
     "language": "python",
     "language_group": "jupyter_python"
    }
   },
   "outputs": [
    {
     "data": {
      "application/vnd.jupyter.statement-meta+json": {
       "execution_finish_time": "2025-06-07T00:21:16.9177679Z",
       "execution_start_time": "2025-06-07T00:21:16.5519129Z",
       "normalized_state": "finished",
       "parent_msg_id": "28277ca0-58cf-46d0-99d7-8257d56c290b",
       "queued_time": "2025-06-07T00:20:59.114252Z",
       "session_id": "58b5b238-1be9-4436-a3e8-09ee34b5ac64",
       "session_start_time": null
      }
     },
     "metadata": {},
     "output_type": "display_data"
    }
   ],
   "source": [
    "##### DO NET CHANGE UNLESS SPECIFIED OTHERWISE ####\n",
    "repo_owner = \"ecotte\"\n",
    "repo_name = \"Fabric-Monitoring-RTI\"\n",
    "branch = \"main\"\n",
    "folder_prefix = \"\"\n",
    "###################################################"
   ]
  },
  {
   "cell_type": "markdown",
   "id": "a65073be-7bb0-44a9-9bdf-c1334d166283",
   "metadata": {
    "microsoft": {
     "language": "python",
     "language_group": "jupyter_python"
    },
    "nteract": {
     "transient": {
      "deleting": false
     }
    }
   },
   "source": [
    "# Process"
   ]
  },
  {
   "cell_type": "markdown",
   "id": "37310857-6b85-4063-a1cf-0905e91d1faf",
   "metadata": {
    "microsoft": {
     "language": "python",
     "language_group": "jupyter_python"
    },
    "nteract": {
     "transient": {
      "deleting": false
     }
    }
   },
   "source": [
    "## Load Libraries"
   ]
  },
  {
   "cell_type": "code",
   "execution_count": 7,
   "id": "1af11a20-a1fa-46f5-a2f1-59667ccc6b2d",
   "metadata": {
    "microsoft": {
     "language": "python",
     "language_group": "jupyter_python"
    }
   },
   "outputs": [
    {
     "data": {
      "application/vnd.jupyter.statement-meta+json": {
       "execution_finish_time": "2025-06-07T00:21:27.6894163Z",
       "execution_start_time": "2025-06-07T00:21:16.9188589Z",
       "normalized_state": "finished",
       "parent_msg_id": "ed6f5812-8450-4204-a588-050fa8df906e",
       "queued_time": "2025-06-07T00:20:59.2043585Z",
       "session_id": "58b5b238-1be9-4436-a3e8-09ee34b5ac64",
       "session_start_time": null
      }
     },
     "metadata": {},
     "output_type": "display_data"
    }
   ],
   "source": [
    "import subprocess\n",
    "import os\n",
    "import json\n",
    "from zipfile import ZipFile \n",
    "import shutil\n",
    "import re\n",
    "import requests\n",
    "import zipfile\n",
    "from io import BytesIO\n",
    "import yaml\n",
    "import sempy.fabric as fabric"
   ]
  },
  {
   "cell_type": "markdown",
   "id": "de2d04fe-3bb9-49ce-bcd5-00c41ea09405",
   "metadata": {
    "microsoft": {
     "language": "python",
     "language_group": "jupyter_python"
    },
    "nteract": {
     "transient": {
      "deleting": false
     }
    }
   },
   "source": [
    "## Download of source & config files\n",
    "This part downloads all source and config files needed for the deployment into the ressources of the notebook"
   ]
  },
  {
   "cell_type": "code",
   "execution_count": 8,
   "id": "31e96bdf-adaf-4501-a631-a51612653c8b",
   "metadata": {
    "microsoft": {
     "language": "python",
     "language_group": "jupyter_python"
    }
   },
   "outputs": [
    {
     "data": {
      "application/vnd.jupyter.statement-meta+json": {
       "execution_finish_time": "2025-06-07T00:21:31.9249933Z",
       "execution_start_time": "2025-06-07T00:21:27.6906863Z",
       "normalized_state": "finished",
       "parent_msg_id": "fdd6d071-3e23-4dd2-9ee4-d38f7bf022cb",
       "queued_time": "2025-06-07T00:20:59.2913546Z",
       "session_id": "58b5b238-1be9-4436-a3e8-09ee34b5ac64",
       "session_start_time": null
      }
     },
     "metadata": {},
     "output_type": "display_data"
    }
   ],
   "source": [
    "def download_folder_as_zip(repo_owner, repo_name, output_zip, branch=\"main\", folder_to_extract=\"src\",  remove_folder_prefix = \"\"):\n",
    "    # Construct the URL for the GitHub API to download the repository as a zip file\n",
    "    url = f\"https://api.github.com/repos/{repo_owner}/{repo_name}/zipball/{branch}\"\n",
    "    \n",
    "    # Make a request to the GitHub API\n",
    "    response = requests.get(url)\n",
    "    response.raise_for_status()\n",
    "\n",
    "    folder_to_extract = f\"/{folder_to_extract}\" if folder_to_extract[0] != \"/\" else folder_to_extract\n",
    "    \n",
    "    # Ensure the directory for the output zip file exists\n",
    "    os.makedirs(os.path.dirname(output_zip), exist_ok=True)\n",
    "    \n",
    "    # Create a zip file in memory\n",
    "    with zipfile.ZipFile(BytesIO(response.content)) as zipf:\n",
    "        with zipfile.ZipFile(output_zip, 'w') as output_zipf:\n",
    "            for file_info in zipf.infolist():\n",
    "                parts = file_info.filename.split('/')\n",
    "                if  re.sub(r'^.*?/', '/', file_info.filename).startswith(folder_to_extract): \n",
    "                    # Extract only the specified folder\n",
    "                    file_data = zipf.read(file_info.filename)  \n",
    "                    if folder_prefix != \"\":\n",
    "                        parts.remove(remove_folder_prefix)\n",
    "                    output_zipf.writestr(('/'.join(parts[1:])), file_data)\n",
    "\n",
    "def uncompress_zip_to_folder(zip_path, extract_to):\n",
    "    # Ensure the directory for extraction exists\n",
    "    os.makedirs(extract_to, exist_ok=True)\n",
    "    \n",
    "    # Uncompress all files from the zip into the specified folder\n",
    "    with zipfile.ZipFile(zip_path, 'r') as zip_ref:\n",
    "        zip_ref.extractall(extract_to)\n",
    "    \n",
    "    # Delete the original zip file\n",
    "    os.remove(zip_path)\n",
    "\n",
    "download_folder_as_zip(repo_owner, repo_name, output_zip = \"./builtin/src/src.zip\", branch = branch, folder_to_extract= f\"{folder_prefix}/src\", remove_folder_prefix = f\"{folder_prefix}\")\n",
    "download_folder_as_zip(repo_owner, repo_name, output_zip = \"./builtin/config/config.zip\", branch = branch, folder_to_extract= f\"{folder_prefix}/config\" , remove_folder_prefix = f\"{folder_prefix}\")\n",
    "uncompress_zip_to_folder(zip_path = \"./builtin/config/config.zip\", extract_to= \"./builtin\")"
   ]
  },
  {
   "cell_type": "markdown",
   "id": "9b96e880-7c1b-4ed5-9ea9-eb4055d41537",
   "metadata": {
    "microsoft": {
     "language": "python",
     "language_group": "jupyter_python"
    },
    "nteract": {
     "transient": {
      "deleting": false
     }
    }
   },
   "source": [
    "## Definition of deployment functions"
   ]
  },
  {
   "cell_type": "code",
   "execution_count": 9,
   "id": "0ee5a660-9826-4865-ac50-ddf8ce578148",
   "metadata": {
    "microsoft": {
     "language": "python",
     "language_group": "jupyter_python"
    }
   },
   "outputs": [
    {
     "data": {
      "application/vnd.jupyter.statement-meta+json": {
       "execution_finish_time": "2025-06-07T00:21:32.2652386Z",
       "execution_start_time": "2025-06-07T00:21:31.9260564Z",
       "normalized_state": "finished",
       "parent_msg_id": "c959829b-d773-46f2-8178-a25e1831f762",
       "queued_time": "2025-06-07T00:20:59.3752474Z",
       "session_id": "58b5b238-1be9-4436-a3e8-09ee34b5ac64",
       "session_start_time": null
      }
     },
     "metadata": {},
     "output_type": "display_data"
    }
   ],
   "source": [
    "def run_fab_command( command, capture_output: bool = False, silently_continue: bool = False, raw_output: bool = False):\n",
    "    result = subprocess.run([\"fab\", \"-c\", command], capture_output=capture_output, text=True)\n",
    "    if (not(silently_continue) and (result.returncode > 0 or result.stderr)):\n",
    "       raise Exception(f\"Error running fab command. exit_code: '{result.returncode}'; stderr: '{result}'\")    \n",
    "    if (capture_output and not raw_output): \n",
    "        output = result.stdout.strip()\n",
    "        return output\n",
    "    elif (capture_output and raw_output):\n",
    "        return result\n",
    "\n",
    "def fab_get_id(name):\n",
    "    id = run_fab_command(f\"get /{trg_workspace_name}.Workspace/{name} -q id\" , capture_output = True, silently_continue= True)\n",
    "    return(id)\n",
    "\n",
    "def fab_get_item(name):\n",
    "    item = run_fab_command(f\"get /{trg_workspace_name}.Workspace/{name}\" , capture_output = True, silently_continue= True)\n",
    "    return(item)\n",
    "\n",
    "def fab_get_display_name(name):\n",
    "    display_name = run_fab_command(f\"get /{trg_workspace_name}.Workspace/{name} -q displayName\" , capture_output = True, silently_continue= True)\n",
    "    return(display_name)\n",
    "\n",
    "def fab_get_kusto_query_uri(name):\n",
    "    connection = run_fab_command(f\"get /{trg_workspace_name}.Workspace/{name} -q properties.queryServiceUri -f\", capture_output = True, silently_continue= True)\n",
    "    connection = connection.split(\"\\n\")[1]\n",
    "    return(connection)\n",
    "\n",
    "def fab_get_kusto_ingest_uri(name):\n",
    "    connection = run_fab_command(f\"get /{trg_workspace_name}.Workspace/{name} -q properties.ingestionServiceUri -f\", capture_output = True, silently_continue= True)\n",
    "    connection = connection.split(\"\\n\")[1]\n",
    "    return(connection)\n",
    "\n",
    "def fab_get_folders():\n",
    "    response = run_fab_command(f\"api workspaces/{trg_workspace_id}/folders\", capture_output = True, silently_continue= True)\n",
    "    return(json.loads(response).get('text',{}).get('value',[]))\n",
    "\n",
    "def fab_get_folder(folder_name):\n",
    "    for f in fab_get_folders():\n",
    "        if f.get('displayName') == folder_name:\n",
    "            return f\n",
    "    return None\n",
    "\n",
    "def fab_assign_item_folder(name,folder):\n",
    "    folder_details = fab_get_folder(folder)\n",
    "    item_id = fab_get_id(name)\n",
    "\n",
    "    if folder_details is None:\n",
    "        payload = json.dumps({\"displayName\": folder})\n",
    "        folder_details = run_fab_command(f\"api -X post workspaces/{trg_workspace_id}/folders -i {payload}\", capture_output = True, silently_continue= True)\n",
    "        folder_details = json.loads(folder_details).get('text',{})\n",
    "\n",
    "    payload = json.dumps({\"folder\": folder_details.get('id')})\n",
    "\n",
    "    return run_fab_command(f\"api -X patch workspaces/{trg_workspace_id}/items/{item_id} -i {payload}\", capture_output = True, silently_continue= True)\n",
    "\n",
    "def fab_add_schedule(name):\n",
    "    item = run_fab_command(f\"get /{trg_workspace_name}.Workspace/{name} -q schedules\" , capture_output = True, silently_continue= True)\n",
    "\n",
    "    if len(json.loads(item)) == 0:\n",
    "        schedule = get_schedule_by_name(name)\n",
    "\n",
    "        return run_fab_command(f\"job run-sch /{trg_workspace_name}.Workspace/{name} -i {json.dumps(schedule)}\" , capture_output = True, silently_continue=True)\n",
    "\n",
    "    return f\"\"\"Job schedule for '{name}' already exists...\n",
    "* Job schedule {item}\"\"\" \n",
    "\n",
    "def get_id_by_name(name):\n",
    "    for it in deployment_order:\n",
    "        if it.get(\"name\") == name:\n",
    "                return it.get(\"id\")\n",
    "    return None\n",
    "\n",
    "def get_schedule_by_name(name):\n",
    "    for it in deployment_order:\n",
    "        if it.get(\"name\") == name:\n",
    "                return it.get(\"schedule\")\n",
    "    return None\n",
    "\n",
    "def copy_to_tmp(name,child=None):\n",
    "    child_path = \"\" if child is None else f\".children/{child}/\"\n",
    "    shutil.rmtree(\"./builtin/tmp\",  ignore_errors=True)\n",
    "    path2zip = \"./builtin/src/src.zip\"\n",
    "    with  ZipFile(path2zip) as archive:\n",
    "        for file in archive.namelist():\n",
    "            if file.startswith(f'src/{name}/{child_path}'):\n",
    "                archive.extract(file, './builtin/tmp')\n",
    "    return(f\"./builtin/tmp/src/{name}/{child_path}\" )\n",
    "\n",
    "def replace_ids_in_folder(folder_path, mapping_table):\n",
    "    for root, _, files in os.walk(folder_path):\n",
    "        for file_name in files:\n",
    "            if file_name.endswith(('.py', '.json', '.pbir', '.platform', '.ipynb', '.tmdl')) and not file_name.endswith('report.json'):\n",
    "                file_path = os.path.join(root, file_name)\n",
    "                with open(file_path, 'r', encoding='utf-8') as file:\n",
    "                    content = file.read()\n",
    "                    for mapping in mapping_table:  \n",
    "                        content = content.replace(mapping[\"old_id\"], mapping[\"new_id\"])\n",
    "                with open(file_path, 'w', encoding='utf-8') as file:\n",
    "                    file.write(content)\n",
    "\n",
    "def deploy_item(name,child=None,it=None):\n",
    "    print(\"\")\n",
    "    print(\"#############################################\")\n",
    "    print(f\"Deploying {name}\")\n",
    "\n",
    "    # Copy and replace IDs in the item\n",
    "    tmp_path = copy_to_tmp(name,child)\n",
    "\n",
    "    name = name if child is None else child\n",
    "\n",
    "    cli_parameter = ''\n",
    "    if \".Notebook\" in name:\n",
    "        cli_parameter = cli_parameter + \" --format .py\"\n",
    "\n",
    "    replace_ids_in_folder(tmp_path, mapping_table)    \n",
    "    \n",
    "    run_fab_command(f\"import  /{trg_workspace_name}.Workspace/{name} -i {tmp_path} -f {cli_parameter} \", silently_continue= True)\n",
    "    new_id= fab_get_id(name)\n",
    "\n",
    "    if \".KQLDatabase\" in name:\n",
    "        display_name = fab_get_display_name(name)\n",
    "        mapping_table.append({\"Description\": \"KQL DB Name\" , \"old_id\": \"{kusto_db_name}\", \"new_id\": display_name })\n",
    "    elif \".Eventhouse\" in name:\n",
    "        query_uri = fab_get_kusto_query_uri(name)\n",
    "        mapping_table.append({\"Description\": \"Kusto Query Uri\" , \"old_id\": \"{kusto_query_uri}\", \"new_id\": query_uri })\n",
    "        mapping_table.append({\"Description\": \"Kusto Query Uri\" , \"old_id\": '\"clusterUri\": \"\"', \"new_id\": f'\"clusterUri\": \"{query_uri}\"' })\n",
    "        ingest_uri = fab_get_kusto_ingest_uri(name)\n",
    "        mapping_table.append({\"Description\": \"Kusto Ingest Uri\" , \"old_id\": \"{kusto_ingest_uri}\", \"new_id\": ingest_uri })\n",
    "    mapping_table.append({ \"old_id\": it[\"id\"], \"new_id\": new_id })"
   ]
  },
  {
   "cell_type": "markdown",
   "id": "a807fcaf-3b97-4952-a720-a55f75dab7a0",
   "metadata": {
    "microsoft": {
     "language": "python",
     "language_group": "jupyter_python"
    },
    "nteract": {
     "transient": {
      "deleting": false
     }
    }
   },
   "source": [
    "## CLI Login"
   ]
  },
  {
   "cell_type": "code",
   "execution_count": 10,
   "id": "e4b689de-95e4-47f1-b6cd-78c0324acb06",
   "metadata": {
    "microsoft": {
     "language": "python",
     "language_group": "jupyter_python"
    }
   },
   "outputs": [
    {
     "data": {
      "application/vnd.jupyter.statement-meta+json": {
       "execution_finish_time": "2025-06-07T00:21:32.6221805Z",
       "execution_start_time": "2025-06-07T00:21:32.2662584Z",
       "normalized_state": "finished",
       "parent_msg_id": "e1306b23-c875-4d51-971b-841305648d77",
       "queued_time": "2025-06-07T00:20:59.458545Z",
       "session_id": "58b5b238-1be9-4436-a3e8-09ee34b5ac64",
       "session_start_time": null
      }
     },
     "metadata": {},
     "output_type": "display_data"
    }
   ],
   "source": [
    "# Set environment parameters for Fabric CLI\n",
    "token = notebookutils.credentials.getToken('pbi')\n",
    "os.environ['FAB_TOKEN'] = token\n",
    "os.environ['FAB_TOKEN_ONELAKE'] = token"
   ]
  },
  {
   "cell_type": "markdown",
   "id": "cefa08bf-f156-4110-941c-2325a2a6120c",
   "metadata": {
    "microsoft": {
     "language": "python",
     "language_group": "jupyter_python"
    },
    "nteract": {
     "transient": {
      "deleting": false
     }
    }
   },
   "source": [
    "## Get current Workspace\n",
    "This cell gets the current workspace to deploy automatically inside it"
   ]
  },
  {
   "cell_type": "code",
   "execution_count": 11,
   "id": "d58fee19-3f2f-4411-8188-19d14071c536",
   "metadata": {
    "microsoft": {
     "language": "python",
     "language_group": "jupyter_python"
    }
   },
   "outputs": [
    {
     "data": {
      "application/vnd.jupyter.statement-meta+json": {
       "execution_finish_time": "2025-06-07T00:21:39.7885135Z",
       "execution_start_time": "2025-06-07T00:21:32.6234446Z",
       "normalized_state": "finished",
       "parent_msg_id": "c89480fe-ea02-4099-806f-f93cad29d9d1",
       "queued_time": "2025-06-07T00:20:59.5453907Z",
       "session_id": "58b5b238-1be9-4436-a3e8-09ee34b5ac64",
       "session_start_time": null
      }
     },
     "metadata": {},
     "output_type": "display_data"
    },
    {
     "name": "stdout",
     "output_type": "stream",
     "text": [
      "Current workspace: [Dev] Microsoft Fabric Platform Monitoring\n",
      "Current workspace ID: 9abe4198-c12a-4ea7-8442-81bf06eb9097\n"
     ]
    },
    {
     "data": {
      "application/vnd.synapse-jupyter.display-view+json": {
       "isSummary": false,
       "language": "python",
       "table": {
        "rows": [
         {
          "0": "Workspace Id",
          "1": "63b564e3-bc45-46b0-aa00-31e28a727076",
          "2": "9abe4198-c12a-4ea7-8442-81bf06eb9097"
         },
         {
          "0": "Workspace Id",
          "1": "00000000-0000-0000-0000-000000000000",
          "2": "9abe4198-c12a-4ea7-8442-81bf06eb9097"
         },
         {
          "0": "KeyVault",
          "1": "{key_vault_uri}",
          "2": "https://mrtacatkeyvault.vault.azure.net/"
         },
         {
          "0": "KeyVault",
          "1": "{key_vault_tenant_id}",
          "2": "tenant-id"
         },
         {
          "0": "KeyVault",
          "1": "{key_vault_client_id}",
          "2": "fabric-admin-api-sp-id"
         },
         {
          "0": "KeyVault",
          "1": "{key_vault_client_secret}",
          "2": "fabric-admin-api-sp-secret"
         }
        ],
        "schema": [
         {
          "key": "0",
          "name": "Description",
          "type": "string"
         },
         {
          "key": "1",
          "name": "old_id",
          "type": "string"
         },
         {
          "key": "2",
          "name": "new_id",
          "type": "string"
         }
        ],
        "truncated": false
       }
      }
     },
     "metadata": {},
     "output_type": "display_data"
    }
   ],
   "source": [
    "base_path = './builtin/'\n",
    "\n",
    "deploy_order_path = os.path.join(base_path, 'config/deployment_order.json')\n",
    "with open(deploy_order_path, 'r') as file:\n",
    "        deployment_order = json.load(file)\n",
    "\n",
    "src_workspace_name = \"Workspace.src\"\n",
    "src_workspace_id = get_id_by_name(src_workspace_name)\n",
    "\n",
    "src_capacity_name = \"FabricCapacity\"\n",
    "\n",
    "mapping_table=[]\n",
    "\n",
    "trg_workspace_id = fabric.get_notebook_workspace_id()\n",
    "res = run_fab_command(f\"api -X get workspaces/{trg_workspace_id}\" , capture_output = True, silently_continue=True)\n",
    "trg_workspace_name = json.loads(res)[\"text\"][\"displayName\"]\n",
    "\n",
    "\n",
    "\n",
    "print(f\"Current workspace: {trg_workspace_name}\")\n",
    "print(f\"Current workspace ID: {trg_workspace_id}\")\n",
    "\n",
    "\n",
    "# mapping_table.append({ \"old_id\": get_id_by_name(src_capacity_name), \"new_id\": capacity_id })\n",
    "mapping_table.append({\"Description\": \"Workspace Id\" , \"old_id\": get_id_by_name(src_workspace_name), \"new_id\": trg_workspace_id })\n",
    "mapping_table.append({\"Description\": \"Workspace Id\" , \"old_id\": \"00000000-0000-0000-0000-000000000000\", \"new_id\": trg_workspace_id })\n",
    "mapping_table.append({\"Description\": \"KeyVault\" , \"old_id\": \"{key_vault_uri}\", \"new_id\": key_vault_uri })\n",
    "mapping_table.append({\"Description\": \"KeyVault\" , \"old_id\": \"{key_vault_tenant_id}\", \"new_id\": key_vault_tenant_id })\n",
    "mapping_table.append({\"Description\": \"KeyVault\" , \"old_id\": \"{key_vault_client_id}\", \"new_id\": key_vault_client_id })\n",
    "mapping_table.append({\"Description\": \"KeyVault\" , \"old_id\": \"{key_vault_client_secret}\", \"new_id\": key_vault_client_secret })\n",
    "\n",
    "display(mapping_table)"
   ]
  },
  {
   "cell_type": "markdown",
   "id": "3f9c66dd-47bb-4394-a8b7-3772af6dd0ef",
   "metadata": {
    "microsoft": {
     "language": "python",
     "language_group": "jupyter_python"
    },
    "nteract": {
     "transient": {
      "deleting": false
     }
    }
   },
   "source": [
    "## Deployment Logic\n",
    "This part iterates through all the items, gets the respective source code, replaces all IDs dynamically and deploys the new item"
   ]
  },
  {
   "cell_type": "code",
   "execution_count": null,
   "id": "87eaaac6-14e5-47c8-99f2-66bcdb308e00",
   "metadata": {
    "microsoft": {
     "language": "python",
     "language_group": "jupyter_python"
    }
   },
   "outputs": [
    {
     "data": {
      "application/vnd.jupyter.statement-meta+json": {
       "execution_finish_time": "2025-06-07T00:22:58.4551918Z",
       "execution_start_time": "2025-06-07T00:21:39.7897111Z",
       "normalized_state": "finished",
       "parent_msg_id": "8b4a8ce2-3652-4ac7-8829-4bbf1bcf9d89",
       "queued_time": "2025-06-07T00:20:59.6652835Z",
       "session_id": "58b5b238-1be9-4436-a3e8-09ee34b5ac64",
       "session_start_time": null
      }
     },
     "metadata": {},
     "output_type": "display_data"
    },
    {
     "name": "stdout",
     "output_type": "stream",
     "text": [
      "\n",
      "#############################################\n",
      "Deploying Platform and Audit DB.Eventhouse\n",
      "! An item with the same name exists\n",
      "Importing (update) './builtin/tmp/src/Platform and Audit DB.Eventhouse/' → '/[Dev] Microsoft Fabric Platform Monitoring.Workspace/Platform and Audit DB.Eventhouse'...\n",
      "* 'Platform and Audit DB.Eventhouse' imported\n",
      "\n",
      "#############################################\n",
      "Deploying Platform and Audit DB.KQLDatabase\n",
      "! An item with the same name exists\n",
      "Importing (update) './builtin/tmp/src/Platform and Audit DB.KQLDatabase/' → '/[Dev] Microsoft Fabric Platform Monitoring.Workspace/Platform and Audit DB.KQLDatabase'...\n",
      "* 'Platform and Audit DB.KQLDatabase' imported\n",
      "\n",
      "#############################################\n",
      "Deploying CapacityUtilizationEvents.Eventstream\n",
      "! An item with the same name exists\n",
      "Importing (update) './builtin/tmp/src/CapacityUtilizationEvents.Eventstream/' → '/[Dev] Microsoft Fabric Platform Monitoring.Workspace/CapacityUtilizationEvents.Eventstream'...\n",
      "* 'CapacityUtilizationEvents.Eventstream' imported\n",
      "\n",
      "#############################################\n",
      "Deploying GatewayMonitoringHeartbeat.Eventstream\n",
      "! An item with the same name exists\n",
      "Importing (update) './builtin/tmp/src/GatewayMonitoringHeartbeat.Eventstream/' → '/[Dev] Microsoft Fabric Platform Monitoring.Workspace/GatewayMonitoringHeartbeat.Eventstream'...\n",
      "* 'GatewayMonitoringHeartbeat.Eventstream' imported\n",
      "\n",
      "#############################################\n",
      "Deploying GatewayMonitoringReports.Eventstream\n",
      "! An item with the same name exists\n",
      "Importing (update) './builtin/tmp/src/GatewayMonitoringReports.Eventstream/' → '/[Dev] Microsoft Fabric Platform Monitoring.Workspace/GatewayMonitoringReports.Eventstream'...\n",
      "* 'GatewayMonitoringReports.Eventstream' imported\n",
      "\n",
      "#############################################\n",
      "Deploying Monitoring Audit Logs.Notebook\n",
      "! An item with the same name exists\n",
      "Importing (update) './builtin/tmp/src/Monitoring Audit Logs.Notebook/' → '/[Dev] Microsoft Fabric Platform Monitoring.Workspace/Monitoring Audit Logs.Notebook'...\n",
      "* 'Monitoring Audit Logs.Notebook' imported\n",
      "\n",
      "#############################################\n",
      "Deploying Monitoring Extraction Inventory.Notebook\n",
      "! An item with the same name exists\n",
      "Importing (update) './builtin/tmp/src/Monitoring Extraction Inventory.Notebook/' → '/[Dev] Microsoft Fabric Platform Monitoring.Workspace/Monitoring Extraction Inventory.Notebook'...\n",
      "* 'Monitoring Extraction Inventory.Notebook' imported\n",
      "\n",
      "#############################################\n",
      "Deploying Monitoring Extraction Scanner.Notebook\n",
      "! An item with the same name exists\n",
      "Importing (update) './builtin/tmp/src/Monitoring Extraction Scanner.Notebook/' → '/[Dev] Microsoft Fabric Platform Monitoring.Workspace/Monitoring Extraction Scanner.Notebook'...\n",
      "* 'Monitoring Extraction Scanner.Notebook' imported\n",
      "\n",
      "#############################################\n",
      "Deploying Monitoring Extraction Refreshables.Notebook\n",
      "! An item with the same name exists\n",
      "Importing (update) './builtin/tmp/src/Monitoring Extraction Refreshables.Notebook/' → '/[Dev] Microsoft Fabric Platform Monitoring.Workspace/Monitoring Extraction Refreshables.Notebook'...\n",
      "* 'Monitoring Extraction Refreshables.Notebook' imported\n",
      "\n",
      "#############################################\n",
      "Deploying Platform Monitoring.KQLDashboard\n",
      "! An item with the same name exists\n",
      "Importing (update) './builtin/tmp/src/Platform Monitoring.KQLDashboard/' → '/[Dev] Microsoft Fabric Platform Monitoring.Workspace/Platform Monitoring.KQLDashboard'...\n",
      "* 'Platform Monitoring.KQLDashboard' imported\n",
      "\n",
      "#############################################\n",
      "Deploying Capacity Monitoring.KQLDashboard\n",
      "! An item with the same name exists\n",
      "Importing (update) './builtin/tmp/src/Capacity Monitoring.KQLDashboard/' → '/[Dev] Microsoft Fabric Platform Monitoring.Workspace/Capacity Monitoring.KQLDashboard'...\n",
      "* 'Capacity Monitoring.KQLDashboard' imported\n"
     ]
    }
   ],
   "source": [
    "exclude = [src_workspace_name]\n",
    "\n",
    "for it in deployment_order:\n",
    "\n",
    "    new_id = None\n",
    "    \n",
    "    name = it[\"name\"]\n",
    "    type = it[\"type\"]\n",
    "\n",
    "    if not INSTALL_GATEWAY_MODULE and type == \"Gateway\":\n",
    "        continue\n",
    "    elif not INSTALL_PLATFORM_MONITORING_MODULE and type == \"PlatformMonitoring\":\n",
    "        continue\n",
    "\n",
    "    if name in exclude:\n",
    "        continue\n",
    "\n",
    "    if not FIRST_RUN and \".Eventstream\" in name:\n",
    "        continue\n",
    "\n",
    "    deploy_item(name,None,it)\n",
    "\n",
    "    for child in it.get(\"children\",[]):\n",
    "        child_name = child[\"name\"]\n",
    "        deploy_item(name,child_name,child)   \n"
   ]
  }
 ],
 "metadata": {
  "dependencies": {},
  "kernel_info": {
   "jupyter_kernel_name": "python3.11",
   "name": "jupyter"
  },
  "kernelspec": {
   "display_name": "Jupyter",
   "language": "Jupyter",
   "name": "jupyter"
  },
  "language_info": {
   "name": "python"
  },
  "microsoft": {
   "language": "python",
   "language_group": "jupyter_python",
   "ms_spell_check": {
    "ms_spell_check_language": "en"
   }
  },
  "nteract": {
   "version": "nteract-front-end@1.0.0"
  },
  "spark_compute": {
   "compute_id": "/trident/default",
   "session_options": {
    "conf": {
     "spark.synapse.nbs.session.timeout": "1200000"
    }
   }
  }
 },
 "nbformat": 4,
 "nbformat_minor": 5
}
